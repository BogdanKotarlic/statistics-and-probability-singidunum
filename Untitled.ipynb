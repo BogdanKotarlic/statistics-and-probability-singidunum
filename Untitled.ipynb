{
 "cells": [
  {
   "cell_type": "code",
   "execution_count": 2,
   "metadata": {},
   "outputs": [],
   "source": [
    "import pandas as pd\n",
    "import matplotlib.pyplot as plt\n",
    "import numpy as np"
   ]
  },
  {
   "cell_type": "code",
   "execution_count": 3,
   "metadata": {},
   "outputs": [
    {
     "data": {
      "text/html": [
       "<div>\n",
       "<style scoped>\n",
       "    .dataframe tbody tr th:only-of-type {\n",
       "        vertical-align: middle;\n",
       "    }\n",
       "\n",
       "    .dataframe tbody tr th {\n",
       "        vertical-align: top;\n",
       "    }\n",
       "\n",
       "    .dataframe thead th {\n",
       "        text-align: right;\n",
       "    }\n",
       "</style>\n",
       "<table border=\"1\" class=\"dataframe\">\n",
       "  <thead>\n",
       "    <tr style=\"text-align: right;\">\n",
       "      <th></th>\n",
       "      <th>Category</th>\n",
       "      <th>Item</th>\n",
       "      <th>Calories</th>\n",
       "      <th>Fat</th>\n",
       "      <th>Carbohydrates</th>\n",
       "      <th>Protein</th>\n",
       "    </tr>\n",
       "  </thead>\n",
       "  <tbody>\n",
       "    <tr>\n",
       "      <th>0</th>\n",
       "      <td>Breakfast</td>\n",
       "      <td>Egg McMuffin</td>\n",
       "      <td>300</td>\n",
       "      <td>13</td>\n",
       "      <td>31</td>\n",
       "      <td>17</td>\n",
       "    </tr>\n",
       "    <tr>\n",
       "      <th>1</th>\n",
       "      <td>Breakfast</td>\n",
       "      <td>Egg White Delight</td>\n",
       "      <td>200</td>\n",
       "      <td>8</td>\n",
       "      <td>30</td>\n",
       "      <td>18</td>\n",
       "    </tr>\n",
       "    <tr>\n",
       "      <th>2</th>\n",
       "      <td>Breakfast</td>\n",
       "      <td>Sausage McMuffin</td>\n",
       "      <td>400</td>\n",
       "      <td>23</td>\n",
       "      <td>29</td>\n",
       "      <td>14</td>\n",
       "    </tr>\n",
       "    <tr>\n",
       "      <th>3</th>\n",
       "      <td>Breakfast</td>\n",
       "      <td>Sausage McMuffin with Egg</td>\n",
       "      <td>500</td>\n",
       "      <td>28</td>\n",
       "      <td>30</td>\n",
       "      <td>21</td>\n",
       "    </tr>\n",
       "    <tr>\n",
       "      <th>4</th>\n",
       "      <td>Breakfast</td>\n",
       "      <td>Sausage McMuffin with Egg Whites</td>\n",
       "      <td>400</td>\n",
       "      <td>23</td>\n",
       "      <td>30</td>\n",
       "      <td>21</td>\n",
       "    </tr>\n",
       "  </tbody>\n",
       "</table>\n",
       "</div>"
      ],
      "text/plain": [
       "    Category                              Item  Calories  Fat  Carbohydrates  \\\n",
       "0  Breakfast                      Egg McMuffin       300   13             31   \n",
       "1  Breakfast                 Egg White Delight       200    8             30   \n",
       "2  Breakfast                  Sausage McMuffin       400   23             29   \n",
       "3  Breakfast         Sausage McMuffin with Egg       500   28             30   \n",
       "4  Breakfast  Sausage McMuffin with Egg Whites       400   23             30   \n",
       "\n",
       "   Protein  \n",
       "0       17  \n",
       "1       18  \n",
       "2       14  \n",
       "3       21  \n",
       "4       21  "
      ]
     },
     "execution_count": 3,
     "metadata": {},
     "output_type": "execute_result"
    }
   ],
   "source": [
    "attributes = ['Category', 'Item', 'Calories', 'Fat', 'Carbohydrates', 'Protein']\n",
    "data_por = pd.read_csv(\"menu.csv\", usecols=attributes)\n",
    "data_por.head()"
   ]
  },
  {
   "cell_type": "code",
   "execution_count": 4,
   "metadata": {},
   "outputs": [
    {
     "data": {
      "text/plain": [
       "500     23\n",
       "400     22\n",
       "600     11\n",
       "700      8\n",
       "300      5\n",
       "200      4\n",
       "1000     1\n",
       "800      1\n",
       "Name: Calories, dtype: int64"
      ]
     },
     "execution_count": 4,
     "metadata": {},
     "output_type": "execute_result"
    }
   ],
   "source": [
    "data_temp = data_por[\"Calories\"].value_counts()\n",
    "data_temp"
   ]
  },
  {
   "cell_type": "code",
   "execution_count": 5,
   "metadata": {},
   "outputs": [
    {
     "data": {
      "image/png": "[encoded data removed]",
      "text/plain": [
       "<Figure size 432x288 with 1 Axes>"
      ]
     },
     "metadata": {
      "needs_background": "light"
     },
     "output_type": "display_data"
    }
   ],
   "source": [
    "#Raspodela proizvoda po kalorijama\n",
    "P_kalorije = pd.DataFrame(data_temp/data_temp.sum())\n",
    "P_kalorije.columns=[\"Kalorije\"]\n",
    "P_kalorije.plot.bar()\n",
    "plt.show()"
   ]
  },
  {
   "cell_type": "code",
   "execution_count": 6,
   "metadata": {},
   "outputs": [
    {
     "data": {
      "text/plain": [
       "31    5\n",
       "26    4\n",
       "19    4\n",
       "22    4\n",
       "23    4\n",
       "27    4\n",
       "25    3\n",
       "9     3\n",
       "16    3\n",
       "20    3\n",
       "21    3\n",
       "33    3\n",
       "32    3\n",
       "24    3\n",
       "8     2\n",
       "15    2\n",
       "4     2\n",
       "37    2\n",
       "28    2\n",
       "48    1\n",
       "41    1\n",
       "46    1\n",
       "43    1\n",
       "10    1\n",
       "11    1\n",
       "12    1\n",
       "13    1\n",
       "40    1\n",
       "17    1\n",
       "18    1\n",
       "38    1\n",
       "35    1\n",
       "30    1\n",
       "29    1\n",
       "52    1\n",
       "Name: Fat, dtype: int64"
      ]
     },
     "execution_count": 6,
     "metadata": {},
     "output_type": "execute_result"
    }
   ],
   "source": [
    "data_temp = data_por[\"Fat\"].value_counts()\n",
    "data_temp"
   ]
  },
  {
   "cell_type": "code",
   "execution_count": 7,
   "metadata": {},
   "outputs": [
    {
     "data": {
      "image/png": "[encoded data removed]",
      "text/plain": [
       "<Figure size 432x288 with 1 Axes>"
      ]
     },
     "metadata": {
      "needs_background": "light"
     },
     "output_type": "display_data"
    }
   ],
   "source": [
    "#Raspodela proizvoda po mastima\n",
    "P_kalorije = pd.DataFrame(data_temp/data_temp.sum())\n",
    "P_kalorije.columns=[\"Masti\"]\n",
    "P_kalorije.plot.bar()\n",
    "plt.show()"
   ]
  },
  {
   "cell_type": "code",
   "execution_count": 8,
   "metadata": {},
   "outputs": [
    {
     "data": {
      "text/plain": [
       "42     6\n",
       "34     4\n",
       "56     4\n",
       "43     4\n",
       "44     3\n",
       "40     3\n",
       "30     3\n",
       "41     3\n",
       "55     3\n",
       "51     3\n",
       "35     3\n",
       "48     3\n",
       "47     3\n",
       "46     3\n",
       "38     2\n",
       "39     2\n",
       "36     2\n",
       "31     2\n",
       "57     2\n",
       "58     2\n",
       "33     1\n",
       "29     1\n",
       "26     1\n",
       "15     1\n",
       "32     1\n",
       "110    1\n",
       "68     1\n",
       "45     1\n",
       "49     1\n",
       "50     1\n",
       "60     1\n",
       "61     1\n",
       "65     1\n",
       "66     1\n",
       "12     1\n",
       "Name: Carbohydrates, dtype: int64"
      ]
     },
     "execution_count": 8,
     "metadata": {},
     "output_type": "execute_result"
    }
   ],
   "source": [
    "data_temp = data_por[\"Carbohydrates\"].value_counts()\n",
    "data_temp"
   ]
  },
  {
   "cell_type": "code",
   "execution_count": 9,
   "metadata": {},
   "outputs": [
    {
     "data": {
      "image/png": "[encoded data removed]",
      "text/plain": [
       "<Figure size 432x288 with 1 Axes>"
      ]
     },
     "metadata": {
      "needs_background": "light"
     },
     "output_type": "display_data"
    }
   ],
   "source": [
    "#Raspodela proizvoda po ugljenim hidratima\n",
    "P_kalorije = pd.DataFrame(data_temp/data_temp.sum())\n",
    "P_kalorije.columns=[\"Ugljeni hidrati\"]\n",
    "P_kalorije.plot.bar()\n",
    "plt.show()"
   ]
  },
  {
   "cell_type": "code",
   "execution_count": 10,
   "metadata": {},
   "outputs": [
    {
     "data": {
      "text/plain": [
       "22    5\n",
       "18    5\n",
       "20    5\n",
       "30    4\n",
       "21    4\n",
       "27    4\n",
       "36    4\n",
       "24    3\n",
       "11    3\n",
       "15    3\n",
       "17    3\n",
       "19    3\n",
       "14    3\n",
       "26    3\n",
       "28    3\n",
       "32    2\n",
       "40    2\n",
       "12    2\n",
       "37    2\n",
       "5     2\n",
       "9     1\n",
       "6     1\n",
       "8     1\n",
       "48    1\n",
       "25    1\n",
       "29    1\n",
       "33    1\n",
       "35    1\n",
       "39    1\n",
       "1     1\n",
       "Name: Protein, dtype: int64"
      ]
     },
     "execution_count": 10,
     "metadata": {},
     "output_type": "execute_result"
    }
   ],
   "source": [
    "data_temp = data_por[\"Protein\"].value_counts()\n",
    "data_temp"
   ]
  },
  {
   "cell_type": "code",
   "execution_count": 11,
   "metadata": {
    "scrolled": true
   },
   "outputs": [
    {
     "data": {
      "image/png": "[encoded data removed]",
      "text/plain": [
       "<Figure size 432x288 with 1 Axes>"
      ]
     },
     "metadata": {
      "needs_background": "light"
     },
     "output_type": "display_data"
    }
   ],
   "source": [
    "#Raspodela proizvoda po proteinima\n",
    "P_kalorije = pd.DataFrame(data_temp/data_temp.sum())\n",
    "P_kalorije.columns=[\"Proteini\"]\n",
    "P_kalorije.plot.bar()\n",
    "plt.show()"
   ]
  },
  {
   "cell_type": "code",
   "execution_count": 12,
   "metadata": {},
   "outputs": [],
   "source": [
    "#Visok udeo proteina u proizvodu >25, nizak udeo proteina <10.\n",
    "#Visok udeo masti u proizvodu >15, nizak udeo masti <5.\n",
    "#Visok udeo ugljenih hidrata u proizvodu >60, nizak udeo ugljenih hidrata <20.\n",
    "#Ove vrednosti sam samostalno postavio."
   ]
  },
  {
   "cell_type": "code",
   "execution_count": 13,
   "metadata": {},
   "outputs": [
    {
     "name": "stdout",
     "output_type": "stream",
     "text": [
      "VISOK, SREDNJI I NIZAK UDEO PROTEINA U PROIZVODIMA:\n",
      "---------------------------------------------------\n",
      "Visok: \n",
      "29\n",
      "Srednji: \n",
      "75\n",
      "Nizak: \n",
      "6\n"
     ]
    },
    {
     "data": {
      "image/png": "[encoded data removed]",
      "text/plain": [
       "<Figure size 432x288 with 1 Axes>"
      ]
     },
     "metadata": {
      "needs_background": "light"
     },
     "output_type": "display_data"
    }
   ],
   "source": [
    "data_temp_protein_high_value = (data_por[\"Protein\"] > 25).value_counts()\n",
    "data_temp_protein_mid_value = ((data_por[\"Protein\"] >= 25) & (data_por[\"Protein\"]) <= 10).value_counts()\n",
    "data_temp_protein_low_value = (data_por[\"Protein\"] < 10).value_counts()\n",
    "\n",
    "print(\"VISOK, SREDNJI I NIZAK UDEO PROTEINA U PROIZVODIMA:\")\n",
    "print(\"---------------------------------------------------\")\n",
    "high = data_temp_protein_high_value[True]\n",
    "print(\"Visok: \")\n",
    "print(high)\n",
    "mid = data_temp_protein_mid_value[True]\n",
    "print(\"Srednji: \")\n",
    "print(mid)\n",
    "low = data_temp_protein_low_value[True]\n",
    "print(\"Nizak: \")\n",
    "print(low)\n",
    "\n",
    "P_Rezultat = pd.DataFrame([low, mid, high]/(low + mid + high))\n",
    "P_Rezultat.columns=[\"Udeo\"]\n",
    "P_Rezultat.index = [\"Low\", \"Mid\", \"High\"]\n",
    "P_Rezultat.plot.bar()\n",
    "plt.show()"
   ]
  },
  {
   "cell_type": "code",
   "execution_count": 14,
   "metadata": {},
   "outputs": [
    {
     "name": "stdout",
     "output_type": "stream",
     "text": [
      "VISOK, SREDNJI I NIZAK UDEO MASTI U PROIZVODIMA:\n",
      "---------------------------------------------------\n",
      "Visok: \n",
      "62\n",
      "Srednji: \n",
      "75\n",
      "Nizak: \n",
      "2\n"
     ]
    },
    {
     "data": {
      "image/png": "[encoded data removed]",
      "text/plain": [
       "<Figure size 432x288 with 1 Axes>"
      ]
     },
     "metadata": {
      "needs_background": "light"
     },
     "output_type": "display_data"
    }
   ],
   "source": [
    "data_temp_fat_high_value = (data_por[\"Fat\"] > 15).value_counts()\n",
    "data_temp_fat_mid_value = ((data_por[\"Fat\"] >= 15) & (data_por[\"Protein\"]) <= 5).value_counts()\n",
    "data_temp_fat_low_value = (data_por[\"Fat\"] < 5).value_counts()\n",
    "\n",
    "print(\"VISOK, SREDNJI I NIZAK UDEO MASTI U PROIZVODIMA:\")\n",
    "print(\"---------------------------------------------------\")\n",
    "high = data_temp_fat_high_value[True]\n",
    "print(\"Visok: \")\n",
    "print(high)\n",
    "mid = data_temp_fat_mid_value[True]\n",
    "print(\"Srednji: \")\n",
    "print(mid)\n",
    "low = data_temp_fat_low_value[True]\n",
    "print(\"Nizak: \")\n",
    "print(low)\n",
    "\n",
    "P_Rezultat = pd.DataFrame([low, mid, high]/(low + mid + high))\n",
    "P_Rezultat.columns=[\"Udeo\"]\n",
    "P_Rezultat.index = [\"Low\", \"Mid\", \"High\"]\n",
    "P_Rezultat.plot.bar()\n",
    "plt.show()"
   ]
  },
  {
   "cell_type": "code",
   "execution_count": 15,
   "metadata": {},
   "outputs": [
    {
     "name": "stdout",
     "output_type": "stream",
     "text": [
      "VISOK, SREDNJI I NIZAK UDEO UGLJENIH HIDRATA U PROIZVODIMA:\n",
      "---------------------------------------------------\n",
      "Visok: \n",
      "5\n",
      "Srednji: \n",
      "75\n",
      "Nizak: \n",
      "2\n"
     ]
    },
    {
     "data": {
      "image/png": "[encoded data removed]",
      "text/plain": [
       "<Figure size 432x288 with 1 Axes>"
      ]
     },
     "metadata": {
      "needs_background": "light"
     },
     "output_type": "display_data"
    }
   ],
   "source": [
    "data_temp_carb_high_value = (data_por[\"Carbohydrates\"] > 60).value_counts()\n",
    "data_temp_carb_mid_value = ((data_por[\"Carbohydrates\"] >= 60) & (data_por[\"Protein\"]) <= 20).value_counts()\n",
    "data_temp_carb_low_value = (data_por[\"Carbohydrates\"] < 20).value_counts()\n",
    "\n",
    "print(\"VISOK, SREDNJI I NIZAK UDEO UGLJENIH HIDRATA U PROIZVODIMA:\")\n",
    "print(\"---------------------------------------------------\")\n",
    "high = data_temp_carb_high_value[True]\n",
    "print(\"Visok: \")\n",
    "print(high)\n",
    "mid = data_temp_carb_mid_value[True]\n",
    "print(\"Srednji: \")\n",
    "print(mid)\n",
    "low = data_temp_carb_low_value[True]\n",
    "print(\"Nizak: \")\n",
    "print(low)\n",
    "\n",
    "P_Rezultat = pd.DataFrame([low, mid, high]/(low + mid + high))\n",
    "P_Rezultat.columns=[\"Udeo\"]\n",
    "P_Rezultat.index = [\"Low\", \"Mid\", \"High\"]\n",
    "P_Rezultat.plot.bar()\n",
    "plt.show()"
   ]
  },
  {
   "cell_type": "code",
   "execution_count": 16,
   "metadata": {},
   "outputs": [],
   "source": [
    "#Na grafikonima iznad mozemo primetiti da su kod McDonalds proizvoda najveci problem masti.\n",
    "#Ovo naravno nisu zdrave masti, nego vecinom trans i zasicene masti."
   ]
  },
  {
   "cell_type": "code",
   "execution_count": 17,
   "metadata": {},
   "outputs": [
    {
     "data": {
      "image/png": "[encoded data removed]",
      "text/plain": [
       "<Figure size 432x288 with 1 Axes>"
      ]
     },
     "metadata": {
      "needs_background": "light"
     },
     "output_type": "display_data"
    },
    {
     "name": "stdout",
     "output_type": "stream",
     "text": [
      "                            OLS Regression Results                            \n",
      "==============================================================================\n",
      "Dep. Variable:               Calories   R-squared:                       0.759\n",
      "Model:                            OLS   Adj. R-squared:                  0.756\n",
      "Method:                 Least Squares   F-statistic:                     230.1\n",
      "Date:                Mon, 09 Nov 2020   Prob (F-statistic):           2.88e-24\n",
      "Time:                        19:23:35   Log-Likelihood:                -425.38\n",
      "No. Observations:                  75   AIC:                             854.8\n",
      "Df Residuals:                      73   BIC:                             859.4\n",
      "Df Model:                           1                                         \n",
      "Covariance Type:            nonrobust                                         \n",
      "===================================================================================\n",
      "                      coef    std err          t      P>|t|      [0.025      0.975]\n",
      "-----------------------------------------------------------------------------------\n",
      "Intercept         180.9958     21.847      8.285      0.000     137.455     224.537\n",
      "CaloriesFromFat     1.3984      0.092     15.169      0.000       1.215       1.582\n",
      "==============================================================================\n",
      "Omnibus:                        5.819   Durbin-Watson:                   1.102\n",
      "Prob(Omnibus):                  0.054   Jarque-Bera (JB):                5.050\n",
      "Skew:                           0.597   Prob(JB):                       0.0801\n",
      "Kurtosis:                       3.434   Cond. No.                         629.\n",
      "==============================================================================\n",
      "\n",
      "Warnings:\n",
      "[1] Standard Errors assume that the covariance matrix of the errors is correctly specified.\n"
     ]
    }
   ],
   "source": [
    "#Linearna regresija\n",
    "import statsmodels.formula.api as sm\n",
    "from scipy import stats\n",
    "from statsmodels.formula.api import ols\n",
    "\n",
    "df = pd.read_csv('menu.csv')\n",
    "df.plot('Calories', 'CaloriesFromFat', style='o')\n",
    "plt.show()\n",
    "\n",
    "Rez= sm.ols('Calories ~ CaloriesFromFat', df).fit()\n",
    "print(Rez.summary())"
   ]
  },
  {
   "cell_type": "code",
   "execution_count": 18,
   "metadata": {},
   "outputs": [
    {
     "name": "stdout",
     "output_type": "stream",
     "text": [
      "                            OLS Regression Results                            \n",
      "==============================================================================\n",
      "Dep. Variable:               Calories   R-squared:                       0.959\n",
      "Model:                            OLS   Adj. R-squared:                  0.958\n",
      "Method:                 Least Squares   F-statistic:                     559.8\n",
      "Date:                Mon, 09 Nov 2020   Prob (F-statistic):           2.58e-49\n",
      "Time:                        19:23:35   Log-Likelihood:                -358.58\n",
      "No. Observations:                  75   AIC:                             725.2\n",
      "Df Residuals:                      71   BIC:                             734.4\n",
      "Df Model:                           3                                         \n",
      "Covariance Type:            nonrobust                                         \n",
      "=================================================================================\n",
      "                    coef    std err          t      P>|t|      [0.025      0.975]\n",
      "---------------------------------------------------------------------------------\n",
      "Intercept         9.7605     12.964      0.753      0.454     -16.089      35.610\n",
      "Fat               8.1482      0.429     19.011      0.000       7.294       9.003\n",
      "Carbohydrates     4.5736      0.295     15.521      0.000       3.986       5.161\n",
      "Protein           3.3521      0.439      7.635      0.000       2.477       4.228\n",
      "==============================================================================\n",
      "Omnibus:                        1.144   Durbin-Watson:                   2.291\n",
      "Prob(Omnibus):                  0.564   Jarque-Bera (JB):                1.006\n",
      "Skew:                          -0.050   Prob(JB):                        0.605\n",
      "Kurtosis:                       2.442   Cond. No.                         218.\n",
      "==============================================================================\n",
      "\n",
      "Warnings:\n",
      "[1] Standard Errors assume that the covariance matrix of the errors is correctly specified.\n"
     ]
    }
   ],
   "source": [
    "#Visestruka regresija\n",
    "\n",
    "df = pd.read_csv('menu.csv')\n",
    "\n",
    "Rez= sm.ols('Calories ~ Fat + Carbohydrates + Protein', df).fit()\n",
    "print(Rez.summary())"
   ]
  },
  {
   "cell_type": "code",
   "execution_count": 19,
   "metadata": {},
   "outputs": [
    {
     "data": {
      "text/html": [
       "<div>\n",
       "<style scoped>\n",
       "    .dataframe tbody tr th:only-of-type {\n",
       "        vertical-align: middle;\n",
       "    }\n",
       "\n",
       "    .dataframe tbody tr th {\n",
       "        vertical-align: top;\n",
       "    }\n",
       "\n",
       "    .dataframe thead th {\n",
       "        text-align: right;\n",
       "    }\n",
       "</style>\n",
       "<table border=\"1\" class=\"dataframe\">\n",
       "  <thead>\n",
       "    <tr style=\"text-align: right;\">\n",
       "      <th></th>\n",
       "      <th>Fat</th>\n",
       "      <th>Saturated Fat</th>\n",
       "    </tr>\n",
       "  </thead>\n",
       "  <tbody>\n",
       "    <tr>\n",
       "      <th>0</th>\n",
       "      <td>13</td>\n",
       "      <td>5.0</td>\n",
       "    </tr>\n",
       "    <tr>\n",
       "      <th>1</th>\n",
       "      <td>8</td>\n",
       "      <td>3.0</td>\n",
       "    </tr>\n",
       "    <tr>\n",
       "      <th>2</th>\n",
       "      <td>23</td>\n",
       "      <td>8.0</td>\n",
       "    </tr>\n",
       "    <tr>\n",
       "      <th>3</th>\n",
       "      <td>28</td>\n",
       "      <td>10.0</td>\n",
       "    </tr>\n",
       "    <tr>\n",
       "      <th>4</th>\n",
       "      <td>23</td>\n",
       "      <td>8.0</td>\n",
       "    </tr>\n",
       "  </tbody>\n",
       "</table>\n",
       "</div>"
      ],
      "text/plain": [
       "   Fat  Saturated Fat\n",
       "0   13            5.0\n",
       "1    8            3.0\n",
       "2   23            8.0\n",
       "3   28           10.0\n",
       "4   23            8.0"
      ]
     },
     "execution_count": 19,
     "metadata": {},
     "output_type": "execute_result"
    }
   ],
   "source": [
    "#Polinomska regresija\n",
    "\n",
    "attributes = ['Fat', 'Saturated Fat']\n",
    "df = pd.read_csv('menu.csv', usecols=attributes)\n",
    "df.columns = ['Fat', 'Saturated Fat']\n",
    "df.head()"
   ]
  },
  {
   "cell_type": "code",
   "execution_count": 20,
   "metadata": {},
   "outputs": [
    {
     "data": {
      "text/html": [
       "<div>\n",
       "<style scoped>\n",
       "    .dataframe tbody tr th:only-of-type {\n",
       "        vertical-align: middle;\n",
       "    }\n",
       "\n",
       "    .dataframe tbody tr th {\n",
       "        vertical-align: top;\n",
       "    }\n",
       "\n",
       "    .dataframe thead th {\n",
       "        text-align: right;\n",
       "    }\n",
       "</style>\n",
       "<table border=\"1\" class=\"dataframe\">\n",
       "  <thead>\n",
       "    <tr style=\"text-align: right;\">\n",
       "      <th></th>\n",
       "      <th>Fat</th>\n",
       "      <th>Saturated Fat</th>\n",
       "    </tr>\n",
       "  </thead>\n",
       "  <tbody>\n",
       "    <tr>\n",
       "      <th>count</th>\n",
       "      <td>75.000000</td>\n",
       "      <td>75.000000</td>\n",
       "    </tr>\n",
       "    <tr>\n",
       "      <th>mean</th>\n",
       "      <td>24.400000</td>\n",
       "      <td>8.900000</td>\n",
       "    </tr>\n",
       "    <tr>\n",
       "      <th>std</th>\n",
       "      <td>10.048531</td>\n",
       "      <td>4.317626</td>\n",
       "    </tr>\n",
       "    <tr>\n",
       "      <th>min</th>\n",
       "      <td>4.000000</td>\n",
       "      <td>1.500000</td>\n",
       "    </tr>\n",
       "    <tr>\n",
       "      <th>25%</th>\n",
       "      <td>19.000000</td>\n",
       "      <td>6.000000</td>\n",
       "    </tr>\n",
       "    <tr>\n",
       "      <th>50%</th>\n",
       "      <td>24.000000</td>\n",
       "      <td>9.000000</td>\n",
       "    </tr>\n",
       "    <tr>\n",
       "      <th>75%</th>\n",
       "      <td>31.000000</td>\n",
       "      <td>12.000000</td>\n",
       "    </tr>\n",
       "    <tr>\n",
       "      <th>max</th>\n",
       "      <td>52.000000</td>\n",
       "      <td>19.000000</td>\n",
       "    </tr>\n",
       "  </tbody>\n",
       "</table>\n",
       "</div>"
      ],
      "text/plain": [
       "             Fat  Saturated Fat\n",
       "count  75.000000      75.000000\n",
       "mean   24.400000       8.900000\n",
       "std    10.048531       4.317626\n",
       "min     4.000000       1.500000\n",
       "25%    19.000000       6.000000\n",
       "50%    24.000000       9.000000\n",
       "75%    31.000000      12.000000\n",
       "max    52.000000      19.000000"
      ]
     },
     "execution_count": 20,
     "metadata": {},
     "output_type": "execute_result"
    }
   ],
   "source": [
    "df.describe()"
   ]
  },
  {
   "cell_type": "code",
   "execution_count": 69,
   "metadata": {},
   "outputs": [
    {
     "name": "stdout",
     "output_type": "stream",
     "text": [
      "   Calories\n",
      "0       300\n",
      "1       200\n",
      "2       400\n",
      "3       500\n",
      "4       400\n"
     ]
    },
    {
     "data": {
      "image/png": "[encoded data removed]",
      "text/plain": [
       "<Figure size 432x288 with 1 Axes>"
      ]
     },
     "metadata": {
      "needs_background": "light"
     },
     "output_type": "display_data"
    },
    {
     "name": "stdout",
     "output_type": "stream",
     "text": [
      "599.9499999999773\n"
     ]
    },
    {
     "data": {
      "image/png": "[encoded data removed]",
      "text/plain": [
       "<Figure size 432x288 with 1 Axes>"
      ]
     },
     "metadata": {
      "needs_background": "light"
     },
     "output_type": "display_data"
    }
   ],
   "source": [
    "from scipy import stats\n",
    "from scipy.stats import norm\n",
    "import pandas as pd\n",
    "\n",
    "atributi = ['Calories']\n",
    "df = pd.read_csv('menu.csv', usecols=atributi)\n",
    "print(df.head())\n",
    "\n",
    "#Histogram\n",
    "hist = df.hist(density=True, bins=100)\n",
    "plt.show()\n",
    "\n",
    "#Uslov\n",
    "stats.kstest(df['Calories'].dropna().values.T, cdf='norm', args=(df['Calories'].dropna().values.mean(), df['Calories'].dropna().values.std()))\n",
    "\n",
    "#Gausova kriva \n",
    "hist = df.hist(density=True,bins=100)\n",
    "korak = 0.1\n",
    "x = np.arange(200, 1000, korak)\n",
    "print(x.mean()) #srednja vrednost koju postavljam u m\n",
    "m = 600\n",
    "sig = 25\n",
    "P_norm = norm.pdf(x, m, sig)\n",
    "plt.plot(x, P_norm, 'r', linewidth=3.0)\n",
    "plt.show()"
   ]
  },
  {
   "cell_type": "code",
   "execution_count": 68,
   "metadata": {},
   "outputs": [
    {
     "name": "stdout",
     "output_type": "stream",
     "text": [
      "   Fat\n",
      "0   13\n",
      "1    8\n",
      "2   23\n",
      "3   28\n",
      "4   23\n"
     ]
    },
    {
     "data": {
      "image/png": "[encoded data removed]",
      "text/plain": [
       "<Figure size 432x288 with 1 Axes>"
      ]
     },
     "metadata": {
      "needs_background": "light"
     },
     "output_type": "display_data"
    },
    {
     "data": {
      "image/png": "[encoded data removed]",
      "text/plain": [
       "<Figure size 432x288 with 1 Axes>"
      ]
     },
     "metadata": {
      "needs_background": "light"
     },
     "output_type": "display_data"
    }
   ],
   "source": [
    "atributi = ['Fat']\n",
    "df = pd.read_csv('menu.csv', usecols=atributi)\n",
    "print(df.head())\n",
    "\n",
    "#Histogram\n",
    "hist = df.hist(density=True, bins=100)\n",
    "plt.show()\n",
    "\n",
    "#Uslov\n",
    "stats.kstest(df['Fat'].dropna().values.T, cdf='norm', args=(df['Fat'].dropna().values.mean(), df['Fat'].dropna().values.std()))\n",
    "\n",
    "#Gausova kriva \n",
    "hist = df.hist(density=True,bins=100)\n",
    "korak = 0.1\n",
    "x = np.arange(4, 52, korak)\n",
    "print(x.mean()) #srednja vrednost koju postavljam u m\n",
    "m = 28\n",
    "sig = 6\n",
    "P_norm = norm.pdf(x, m, sig)\n",
    "plt.plot(x, P_norm, 'r', linewidth=3.0)\n",
    "plt.show()"
   ]
  },
  {
   "cell_type": "code",
   "execution_count": 67,
   "metadata": {},
   "outputs": [
    {
     "name": "stdout",
     "output_type": "stream",
     "text": [
      "   Protein\n",
      "0       17\n",
      "1       18\n",
      "2       14\n",
      "3       21\n",
      "4       21\n"
     ]
    },
    {
     "data": {
      "image/png": "[encoded data removed]",
      "text/plain": [
       "<Figure size 432x288 with 1 Axes>"
      ]
     },
     "metadata": {
      "needs_background": "light"
     },
     "output_type": "display_data"
    },
    {
     "name": "stdout",
     "output_type": "stream",
     "text": [
      "24.450000000000017\n"
     ]
    },
    {
     "data": {
      "image/png": "[encoded data removed]",
      "text/plain": [
       "<Figure size 432x288 with 1 Axes>"
      ]
     },
     "metadata": {
      "needs_background": "light"
     },
     "output_type": "display_data"
    }
   ],
   "source": [
    "atributi = ['Protein']\n",
    "df = pd.read_csv('menu.csv', usecols=atributi)\n",
    "print(df.head())\n",
    "\n",
    "#Histogram\n",
    "hist = df.hist(density=True, bins=100)\n",
    "plt.show()\n",
    "\n",
    "#Uslov\n",
    "stats.kstest(df['Protein'].dropna().values.T, cdf='norm', args=(df['Protein'].dropna().values.mean(), df['Protein'].dropna().values.std()))\n",
    "\n",
    "#Gausova kriva \n",
    "hist = df.hist(density=True,bins=100)\n",
    "korak = 0.1\n",
    "x = np.arange(1, 48, korak)\n",
    "print(x.mean()) #srednja vrednost koju postavljam u m\n",
    "m = 25\n",
    "sig = 6\n",
    "P_norm = norm.pdf(x, m, sig)\n",
    "plt.plot(x, P_norm, 'r', linewidth=3.0)\n",
    "plt.show()"
   ]
  },
  {
   "cell_type": "code",
   "execution_count": 73,
   "metadata": {},
   "outputs": [
    {
     "name": "stdout",
     "output_type": "stream",
     "text": [
      "   Carbohydrates\n",
      "0             31\n",
      "1             30\n",
      "2             29\n",
      "3             30\n",
      "4             30\n"
     ]
    },
    {
     "data": {
      "image/png": "[encoded data removed]",
      "text/plain": [
       "<Figure size 432x288 with 1 Axes>"
      ]
     },
     "metadata": {
      "needs_background": "light"
     },
     "output_type": "display_data"
    },
    {
     "name": "stdout",
     "output_type": "stream",
     "text": [
      "60.94999999999983\n"
     ]
    },
    {
     "data": {
      "image/png": "[encoded data removed]",
      "text/plain": [
       "<Figure size 432x288 with 1 Axes>"
      ]
     },
     "metadata": {
      "needs_background": "light"
     },
     "output_type": "display_data"
    }
   ],
   "source": [
    "atributi = ['Carbohydrates']\n",
    "df = pd.read_csv('menu.csv', usecols=atributi)\n",
    "print(df.head())\n",
    "\n",
    "#Histogram\n",
    "hist = df.hist(density=True, bins=100)\n",
    "plt.show()\n",
    "\n",
    "#Uslov\n",
    "stats.kstest(df['Carbohydrates'].dropna().values.T, cdf='norm', args=(df['Carbohydrates'].dropna().values.mean(), df['Carbohydrates'].dropna().values.std()))\n",
    "\n",
    "#Gausova kriva \n",
    "hist = df.hist(density=True,bins=100)\n",
    "korak = 0.1\n",
    "x = np.arange(12, 110, korak)\n",
    "print(x.mean()) #srednja vrednost koju postavljam u m\n",
    "m = 61\n",
    "sig = 10\n",
    "P_norm = norm.pdf(x, m, sig)\n",
    "plt.plot(x, P_norm, 'r', linewidth=3.0)\n",
    "plt.show()"
   ]
  },
  {
   "cell_type": "code",
   "execution_count": 298,
   "metadata": {},
   "outputs": [
    {
     "name": "stdout",
     "output_type": "stream",
     "text": [
      "KALORIJE\n",
      "Medijana:\n",
      "500.0\n",
      "Standardna devijacija:\n",
      "144.22205101855957\n",
      "Aritmeticka sredina\n",
      "488.0\n",
      "------------------------\n",
      "MASTI\n",
      "Medijana:\n",
      "24.0\n",
      "Standardna devijacija:\n",
      "10.048530886302386\n",
      "Aritmeticka sredina\n",
      "24.4\n",
      "------------------------\n",
      "UGLJENI HIDRATI\n",
      "Medijana:\n",
      "43.0\n",
      "Standardna devijacija:\n",
      "13.230077662468762\n",
      "Aritmeticka sredina\n",
      "44.45333333333333\n",
      "------------------------\n",
      "PROTEINI\n",
      "Medijana:\n",
      "22.0\n",
      "Standardna devijacija:\n",
      "9.465118513176078\n",
      "Aritmeticka sredina\n",
      "22.706666666666667\n",
      "------------------------\n",
      "------------------------\n",
      "MATRICA KOVARIJANSE:\n",
      "                   Calories          Fat  Carbohydrates     Protein\n",
      "Calories       20800.000000  1262.972973    1432.540541  928.864865\n",
      "Fat             1262.972973   100.972973      58.640541   51.321622\n",
      "Carbohydrates   1432.540541    58.640541     175.034955   45.999640\n",
      "Protein          928.864865    51.321622      45.999640   89.588468\n"
     ]
    }
   ],
   "source": [
    "#Medijana, standardna devijacija, aritmeticka sredina, matrica kovarijanse\n",
    "\n",
    "atributi = ['Item','Calories', 'Protein', 'Fat', 'Carbohydrates']\n",
    "data_por = pd.read_csv(\"menu.csv\", usecols=atributi)\n",
    "data_por.head()\n",
    "\n",
    "#Medijana\n",
    "med_calories = data_por['Calories'].median()\n",
    "med_protein = data_por['Protein'].median()\n",
    "med_fat = data_por['Fat'].median()\n",
    "med_carbo = data_por['Carbohydrates'].median()\n",
    "\n",
    "#Standardna devijacija\n",
    "std_calories = data_por['Calories'].std()\n",
    "std_protein = data_por['Protein'].std()\n",
    "std_fat = data_por['Fat'].std()\n",
    "std_carbo = data_por['Carbohydrates'].std()\n",
    "\n",
    "#Aritmeticka sredina\n",
    "sr_vr_calories = data_por['Calories'].mean()\n",
    "sr_vr_protein = data_por['Protein'].mean()\n",
    "sr_vr_fat = data_por['Fat'].mean()\n",
    "sr_vr_carbo = data_por['Carbohydrates'].mean()\n",
    "\n",
    "print(\"KALORIJE\")\n",
    "print(\"Medijana:\")\n",
    "print(med_calories)\n",
    "print(\"Standardna devijacija:\")\n",
    "print(std_calories)\n",
    "print(\"Aritmeticka sredina\")\n",
    "print(sr_vr_calories)\n",
    "print(\"------------------------\")\n",
    "print(\"MASTI\")\n",
    "print(\"Medijana:\")\n",
    "print(med_fat)\n",
    "print(\"Standardna devijacija:\")\n",
    "print(std_fat)\n",
    "print(\"Aritmeticka sredina\")\n",
    "print(sr_vr_fat)\n",
    "print(\"------------------------\")\n",
    "print(\"UGLJENI HIDRATI\")\n",
    "print(\"Medijana:\")\n",
    "print(med_carbo)\n",
    "print(\"Standardna devijacija:\")\n",
    "print(std_carbo)\n",
    "print(\"Aritmeticka sredina\")\n",
    "print(sr_vr_carbo)\n",
    "print(\"------------------------\")\n",
    "print(\"PROTEINI\")\n",
    "print(\"Medijana:\")\n",
    "print(med_protein)\n",
    "print(\"Standardna devijacija:\")\n",
    "print(std_protein)\n",
    "print(\"Aritmeticka sredina\")\n",
    "print(sr_vr_protein)\n",
    "print(\"------------------------\")\n",
    "print(\"------------------------\")\n",
    "print(\"MATRICA KOVARIJANSE:\")\n",
    "print(data_por.cov())"
   ]
  },
  {
   "cell_type": "code",
   "execution_count": 96,
   "metadata": {},
   "outputs": [
    {
     "data": {
      "image/png": "[encoded data removed]",
      "text/plain": [
       "<Figure size 864x648 with 1 Axes>"
      ]
     },
     "metadata": {
      "needs_background": "light"
     },
     "output_type": "display_data"
    }
   ],
   "source": [
    "#Dodatak: USLOVNA VEROVATNOCA\n",
    "#Uzimam za primer Ugljene hidrate [Carbohydrates]\n",
    "\n",
    "atributi = [\"Carbohydrates\", \"Sugars\"]\n",
    "data_por = pd.read_csv(\"menu.csv\", usecols=atributi)\n",
    "\n",
    "data_temp = data_por[\"Carbohydrates\"].value_counts()\n",
    "data_temp.sum()\n",
    "\n",
    "P_carbo = pd.DataFrame((data_temp/data_temp.sum()))\n",
    "P_carbo.columns = [\"Udeo ugljenih hidrata\"]\n",
    "\n",
    "P_carbo.plot.bar(figsize=(12,9), fontsize=18)\n",
    "plt.show()"
   ]
  },
  {
   "cell_type": "code",
   "execution_count": 91,
   "metadata": {},
   "outputs": [
    {
     "data": {
      "image/png": "[encoded data removed]",
      "text/plain": [
       "<Figure size 720x432 with 1 Axes>"
      ]
     },
     "metadata": {
      "needs_background": "light"
     },
     "output_type": "display_data"
    }
   ],
   "source": [
    "#Uzimamo za primer je visok udeo ugljenih hidrata preko 60g\n",
    "\n",
    "data_temp = (data_por[\"Carbohydrates\"]>=60).value_counts()\n",
    "P_visok_udeo = pd.DataFrame(data_temp/data_temp.sum())\n",
    "P_visok_udeo.index = [\"Nizak\", \"Visok\"]\n",
    "P_visok_udeo.columns = [\"Udeo ugljenih hidrata\"]\n",
    "\n",
    "P_visok_udeo.plot.bar(figsize=(10,6), fontsize=16)\n",
    "plt.show()"
   ]
  }
 ],
 "metadata": {
  "kernelspec": {
   "display_name": "Python 3",
   "language": "python",
   "name": "python3"
  },
  "language_info": {
   "codemirror_mode": {
    "name": "ipython",
    "version": 3
   },
   "file_extension": ".py",
   "mimetype": "text/x-python",
   "name": "python",
   "nbconvert_exporter": "python",
   "pygments_lexer": "ipython3",
   "version": "3.8.3"
  }
 },
 "nbformat": 4,
 "nbformat_minor": 4
}
